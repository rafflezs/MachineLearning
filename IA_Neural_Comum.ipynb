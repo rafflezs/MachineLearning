{
  "nbformat": 4,
  "nbformat_minor": 0,
  "metadata": {
    "colab": {
      "name": "IA - Neural Comum.ipynb",
      "provenance": [],
      "mount_file_id": "1oEb58Jnm6624GZoauyQMFE6EgsHay-1h",
      "authorship_tag": "ABX9TyMADTM7t6fftOJ/rFWA8P/U"
    },
    "kernelspec": {
      "name": "python3",
      "display_name": "Python 3"
    },
    "language_info": {
      "name": "python"
    }
  },
  "cells": [
    {
      "cell_type": "code",
      "source": [
        "import numpy as np\n",
        "import pandas as pd\n",
        "from sklearn.model_selection import train_test_split\n",
        "from sklearn import preprocessing # Redimensionamento dos dados\n",
        "from keras.models import Sequential\n",
        "from keras.layers import Dense"
      ],
      "metadata": {
        "id": "DOMN-pu6aN8u"
      },
      "execution_count": null,
      "outputs": []
    },
    {
      "cell_type": "code",
      "execution_count": null,
      "metadata": {
        "id": "i6m4EGXWXitr"
      },
      "outputs": [],
      "source": [
        "df = pd.read_csv(\"/content/drive/MyDrive/Colab Notebooks/IA/Dataframes/student_data.csv\")\n",
        "X = pd.get_dummies(df.drop(['health'],axis=1)).values\n",
        "y = df['health'].values"
      ]
    },
    {
      "cell_type": "code",
      "source": [
        "min_max_scaler = preprocessing.MinMaxScaler()\n",
        "X_scale = min_max_scaler.fit_transform(X)\n",
        "X_scale"
      ],
      "metadata": {
        "id": "s5c3Dx-FcOe3",
        "colab": {
          "base_uri": "https://localhost:8080/"
        },
        "outputId": "a6bf5584-dde2-43d9-f129-5f0991d2879f"
      },
      "execution_count": null,
      "outputs": [
        {
          "output_type": "execute_result",
          "data": {
            "text/plain": [
              "array([[0.42857143, 1.        , 1.        , ..., 0.        , 1.        ,\n",
              "        0.        ],\n",
              "       [0.28571429, 0.25      , 0.25      , ..., 1.        , 1.        ,\n",
              "        0.        ],\n",
              "       [0.        , 0.25      , 0.25      , ..., 1.        , 1.        ,\n",
              "        0.        ],\n",
              "       ...,\n",
              "       [0.85714286, 0.25      , 0.25      , ..., 0.        , 1.        ,\n",
              "        0.        ],\n",
              "       [0.42857143, 0.75      , 0.5       , ..., 1.        , 1.        ,\n",
              "        0.        ],\n",
              "       [0.57142857, 0.25      , 0.25      , ..., 1.        , 1.        ,\n",
              "        0.        ]])"
            ]
          },
          "metadata": {},
          "execution_count": 289
        }
      ]
    },
    {
      "cell_type": "code",
      "source": [
        "X_train, X_test, y_train, y_test = train_test_split(X_scale,y,test_size=.15)\n"
      ],
      "metadata": {
        "id": "eqDxLNoZJSzO"
      },
      "execution_count": null,
      "outputs": []
    },
    {
      "cell_type": "code",
      "source": [
        "model = Sequential([\n",
        "    Dense(16, activation='relu'),\n",
        "    Dense(16, activation='relu'),\n",
        "    Dense(16, activation='relu'),\n",
        "    Dense(1, activation='relu'),\n",
        "])"
      ],
      "metadata": {
        "id": "Y7svNIWmKPyG"
      },
      "execution_count": null,
      "outputs": []
    },
    {
      "cell_type": "code",
      "source": [
        "model.compile(optimizer='sgd',\n",
        "              loss='binary_crossentropy',\n",
        "              metrics=['accuracy'])"
      ],
      "metadata": {
        "id": "bkOUAmvzKv5x"
      },
      "execution_count": null,
      "outputs": []
    },
    {
      "cell_type": "code",
      "source": [
        "hist = model.fit(X_train, y_train,\n",
        "          batch_size=32, epochs=25,\n",
        "          validation_data=(X_test, y_test))"
      ],
      "metadata": {
        "colab": {
          "base_uri": "https://localhost:8080/"
        },
        "id": "H1LBrgekKxC-",
        "outputId": "f2759b12-56d9-4b98-8b55-eaae8c4c6842"
      },
      "execution_count": null,
      "outputs": [
        {
          "output_type": "stream",
          "name": "stdout",
          "text": [
            "Epoch 1/25\n",
            "11/11 [==============================] - 1s 22ms/step - loss: -32.7575 - accuracy: 0.0806 - val_loss: -34.3108 - val_accuracy: 0.2167\n",
            "Epoch 2/25\n",
            "11/11 [==============================] - 0s 4ms/step - loss: -39.7846 - accuracy: 0.1015 - val_loss: -34.3108 - val_accuracy: 0.2167\n",
            "Epoch 3/25\n",
            "11/11 [==============================] - 0s 4ms/step - loss: -39.7846 - accuracy: 0.1015 - val_loss: -34.3108 - val_accuracy: 0.2167\n",
            "Epoch 4/25\n",
            "11/11 [==============================] - 0s 5ms/step - loss: -39.7846 - accuracy: 0.1015 - val_loss: -34.3108 - val_accuracy: 0.2167\n",
            "Epoch 5/25\n",
            "11/11 [==============================] - 0s 5ms/step - loss: -39.7846 - accuracy: 0.1015 - val_loss: -34.3108 - val_accuracy: 0.2167\n",
            "Epoch 6/25\n",
            "11/11 [==============================] - 0s 6ms/step - loss: -39.7846 - accuracy: 0.1015 - val_loss: -34.3108 - val_accuracy: 0.2167\n",
            "Epoch 7/25\n",
            "11/11 [==============================] - 0s 4ms/step - loss: -39.7846 - accuracy: 0.1015 - val_loss: -34.3108 - val_accuracy: 0.2167\n",
            "Epoch 8/25\n",
            "11/11 [==============================] - 0s 4ms/step - loss: -39.7846 - accuracy: 0.1015 - val_loss: -34.3108 - val_accuracy: 0.2167\n",
            "Epoch 9/25\n",
            "11/11 [==============================] - 0s 4ms/step - loss: -39.7846 - accuracy: 0.1015 - val_loss: -34.3108 - val_accuracy: 0.2167\n",
            "Epoch 10/25\n",
            "11/11 [==============================] - 0s 4ms/step - loss: -39.7846 - accuracy: 0.1015 - val_loss: -34.3108 - val_accuracy: 0.2167\n",
            "Epoch 11/25\n",
            "11/11 [==============================] - 0s 4ms/step - loss: -39.7846 - accuracy: 0.1015 - val_loss: -34.3108 - val_accuracy: 0.2167\n",
            "Epoch 12/25\n",
            "11/11 [==============================] - 0s 4ms/step - loss: -39.7846 - accuracy: 0.1015 - val_loss: -34.3108 - val_accuracy: 0.2167\n",
            "Epoch 13/25\n",
            "11/11 [==============================] - 0s 4ms/step - loss: -39.7846 - accuracy: 0.1015 - val_loss: -34.3108 - val_accuracy: 0.2167\n",
            "Epoch 14/25\n",
            "11/11 [==============================] - 0s 4ms/step - loss: -39.7846 - accuracy: 0.1015 - val_loss: -34.3108 - val_accuracy: 0.2167\n",
            "Epoch 15/25\n",
            "11/11 [==============================] - 0s 4ms/step - loss: -39.7846 - accuracy: 0.1015 - val_loss: -34.3108 - val_accuracy: 0.2167\n",
            "Epoch 16/25\n",
            "11/11 [==============================] - 0s 4ms/step - loss: -39.7846 - accuracy: 0.1015 - val_loss: -34.3108 - val_accuracy: 0.2167\n",
            "Epoch 17/25\n",
            "11/11 [==============================] - 0s 5ms/step - loss: -39.7846 - accuracy: 0.1015 - val_loss: -34.3108 - val_accuracy: 0.2167\n",
            "Epoch 18/25\n",
            "11/11 [==============================] - 0s 4ms/step - loss: -39.7846 - accuracy: 0.1015 - val_loss: -34.3108 - val_accuracy: 0.2167\n",
            "Epoch 19/25\n",
            "11/11 [==============================] - 0s 5ms/step - loss: -39.7846 - accuracy: 0.1015 - val_loss: -34.3108 - val_accuracy: 0.2167\n",
            "Epoch 20/25\n",
            "11/11 [==============================] - 0s 5ms/step - loss: -39.7846 - accuracy: 0.1015 - val_loss: -34.3108 - val_accuracy: 0.2167\n",
            "Epoch 21/25\n",
            "11/11 [==============================] - 0s 5ms/step - loss: -39.7846 - accuracy: 0.1015 - val_loss: -34.3108 - val_accuracy: 0.2167\n",
            "Epoch 22/25\n",
            "11/11 [==============================] - 0s 4ms/step - loss: -39.7846 - accuracy: 0.1015 - val_loss: -34.3108 - val_accuracy: 0.2167\n",
            "Epoch 23/25\n",
            "11/11 [==============================] - 0s 5ms/step - loss: -39.7846 - accuracy: 0.1015 - val_loss: -34.3108 - val_accuracy: 0.2167\n",
            "Epoch 24/25\n",
            "11/11 [==============================] - 0s 5ms/step - loss: -39.7846 - accuracy: 0.1015 - val_loss: -34.3108 - val_accuracy: 0.2167\n",
            "Epoch 25/25\n",
            "11/11 [==============================] - 0s 4ms/step - loss: -39.7846 - accuracy: 0.1015 - val_loss: -34.3108 - val_accuracy: 0.2167\n"
          ]
        }
      ]
    },
    {
      "cell_type": "code",
      "source": [
        "model.evaluate(X_test, y_test)[1]"
      ],
      "metadata": {
        "colab": {
          "base_uri": "https://localhost:8080/"
        },
        "id": "TwTRqOHpK13i",
        "outputId": "f05b95a5-e573-4754-c910-e2f52b89b51e"
      },
      "execution_count": null,
      "outputs": [
        {
          "output_type": "stream",
          "name": "stdout",
          "text": [
            "2/2 [==============================] - 0s 6ms/step - loss: -34.3108 - accuracy: 0.2167\n"
          ]
        },
        {
          "output_type": "execute_result",
          "data": {
            "text/plain": [
              "0.21666666865348816"
            ]
          },
          "metadata": {},
          "execution_count": 294
        }
      ]
    }
  ]
}