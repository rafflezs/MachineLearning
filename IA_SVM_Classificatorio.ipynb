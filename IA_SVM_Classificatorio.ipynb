{
  "nbformat": 4,
  "nbformat_minor": 0,
  "metadata": {
    "colab": {
      "name": "IA - SVM Classificatorio.ipynb",
      "provenance": [],
      "mount_file_id": "1AbJZWbnfr5_Me95szoTiCCCq5cPwNfku",
      "authorship_tag": "ABX9TyNxOudDpslq4wJa3ez7cd7+"
    },
    "kernelspec": {
      "name": "python3",
      "display_name": "Python 3"
    },
    "language_info": {
      "name": "python"
    }
  },
  "cells": [
    {
      "cell_type": "code",
      "execution_count": null,
      "metadata": {
        "colab": {
          "base_uri": "https://localhost:8080/"
        },
        "id": "pB82wm-MHOLV",
        "outputId": "70f057a1-7190-496c-d3d5-e2319d023cfe"
      },
      "outputs": [
        {
          "output_type": "execute_result",
          "data": {
            "text/plain": [
              "(699, 10)"
            ]
          },
          "metadata": {},
          "execution_count": 57
        }
      ],
      "source": [
        "## Celula para imports de libs e obtênção do dataframe\n",
        "import pandas as pd\n",
        "import seaborn as sb\n",
        "from sklearn import svm\n",
        "from sklearn.model_selection import train_test_split\n",
        "from sklearn.svm import SVC\n",
        "from sklearn.preprocessing import LabelEncoder, StandardScaler\n",
        "\n",
        "df = pd.read_csv(\n",
        "    '/content/drive/MyDrive/Colab Notebooks/IA/Dataframes/Breast_cancer.csv',\n",
        "    index_col = 0,\n",
        "    header = 0,\n",
        "    delimiter = ','\n",
        "                 )"
      ]
    },
    {
      "cell_type": "code",
      "source": [
        "## Tratamento de dados - limpando os valores NaN\n",
        "df.dropna()\n",
        "\n",
        "## Tratamento de dados - removendo linhas com '?' (encontrados apenas na coluna 7)\n",
        "df.drop(df.index[df['   7. Bare Nuclei                   1 - 10'] == '?'], inplace=True)\n",
        "\n",
        "## Tratamento de dados - removendo valores NULL\n",
        "df = df[df.notnull()]\n",
        "\n",
        "df = df.astype(int)"
      ],
      "metadata": {
        "id": "B4KrScpsND9O"
      },
      "execution_count": null,
      "outputs": []
    },
    {
      "cell_type": "code",
      "source": [
        "X = df.drop('  11. Class: (2 for benign, 4 for malignant)', axis=1)\n",
        "y = df['  11. Class: (2 for benign, 4 for malignant)']"
      ],
      "metadata": {
        "id": "ao4ZuWD6IOf_"
      },
      "execution_count": null,
      "outputs": []
    },
    {
      "cell_type": "code",
      "source": [
        "X_train, X_test, y_train, y_test = train_test_split(X, y, test_size = 0.20)"
      ],
      "metadata": {
        "id": "eMn2UEPQOLR9"
      },
      "execution_count": null,
      "outputs": []
    },
    {
      "cell_type": "code",
      "source": [
        "svclassifier = SVC(kernel='linear')\n",
        "svclassifier.fit(X_train, y_train)"
      ],
      "metadata": {
        "colab": {
          "base_uri": "https://localhost:8080/"
        },
        "id": "orPrSc4GMvgd",
        "outputId": "3bf484d0-3161-441c-8cdc-531b8df97175"
      },
      "execution_count": null,
      "outputs": [
        {
          "output_type": "execute_result",
          "data": {
            "text/plain": [
              "SVC(kernel='linear')"
            ]
          },
          "metadata": {},
          "execution_count": 54
        }
      ]
    },
    {
      "cell_type": "code",
      "source": [
        "y_pred = svclassifier.predict(X_test)\n",
        "print(y_pred)"
      ],
      "metadata": {
        "colab": {
          "base_uri": "https://localhost:8080/"
        },
        "id": "jwf0HPQYRK0T",
        "outputId": "fc50daac-a960-4ec0-bfb5-c954baabb35a"
      },
      "execution_count": null,
      "outputs": [
        {
          "output_type": "stream",
          "name": "stdout",
          "text": [
            "[4 2 2 4 2 2 2 2 4 4 4 2 2 4 2 2 2 4 4 2 4 2 2 4 2 2 2 2 2 4 4 2 2 4 4 4 4\n",
            " 2 2 4 4 2 4 4 2 2 2 2 4 4 4 2 2 2 2 2 2 2 4 4 2 2 2 4 4 2 2 4 2 2 2 2 2 4\n",
            " 2 4 4 2 2 2 2 4 2 2 4 2 4 2 2 4 2 2 2 2 2 4 4 4 4 4 2 2 2 2 4 4 2 2 2 2 2\n",
            " 2 2 2 4 2 2 2 4 4 4 4 4 2 2 2 4 4 4 2 2 2 4 2 2 2 2]\n"
          ]
        }
      ]
    }
  ]
}